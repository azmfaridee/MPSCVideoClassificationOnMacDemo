{
 "cells": [
  {
   "cell_type": "code",
   "execution_count": 4,
   "metadata": {},
   "outputs": [
    {
     "data": {
      "text/plain": [
       "'31,505,325'"
      ]
     },
     "execution_count": 4,
     "metadata": {},
     "output_type": "execute_result"
    }
   ],
   "source": [
    "import torch\n",
    "import torchvision.transforms as transforms\n",
    "from torchvision.io import read_video\n",
    "from torchvision.models.video import r2plus1d_18\n",
    "\n",
    "# Load pre-trained R2Plus1D model\n",
    "model = r2plus1d_18(pretrained=True)\n",
    "\n",
    "# make the model ready for macbook pro\n",
    "# model = model.to('mps')\n",
    "\n",
    "# Set model to evaluation mode\n",
    "model.eval()\n",
    "\n",
    "def num_params(model):\n",
    "    return f'{sum(p.numel() for p in model.parameters() if p.requires_grad):,}'\n",
    "\n",
    "num_params(model)"
   ]
  },
  {
   "cell_type": "code",
   "execution_count": 5,
   "metadata": {},
   "outputs": [],
   "source": [
    "\n",
    "# Define video transformations\n",
    "transform = transforms.Compose([\n",
    "    transforms.Resize((128, 171)),  # Resize video frames\n",
    "    transforms.CenterCrop((112, 112)),  # Center crop video frames\n",
    "    transforms.ToTensor(),  # Convert frames to tensor\n",
    "    transforms.Normalize(mean=[0.43216, 0.394666, 0.37645], std=[0.22803, 0.22145, 0.216989]),  # Normalize frames\n",
    "])\n",
    "\n",
    "# a random teensor for the video\n",
    "video_tensor = torch.rand(1, 3, 16, 112, 112) # .to('mps')"
   ]
  },
  {
   "cell_type": "code",
   "execution_count": 6,
   "metadata": {},
   "outputs": [
    {
     "name": "stdout",
     "output_type": "stream",
     "text": [
      "Predicted class: 150\n"
     ]
    }
   ],
   "source": [
    "# Perform inference\n",
    "with torch.no_grad():\n",
    "    outputs = model(video_tensor)\n",
    "\n",
    "# Get predicted class\n",
    "predicted_class = torch.argmax(outputs, dim=1).item()\n",
    "\n",
    "# Print predicted class\n",
    "print(f\"Predicted class: {predicted_class}\")\n"
   ]
  },
  {
   "cell_type": "code",
   "execution_count": null,
   "metadata": {},
   "outputs": [],
   "source": []
  }
 ],
 "metadata": {
  "kernelspec": {
   "display_name": "Python 3",
   "language": "python",
   "name": "python3"
  },
  "language_info": {
   "codemirror_mode": {
    "name": "ipython",
    "version": 3
   },
   "file_extension": ".py",
   "mimetype": "text/x-python",
   "name": "python",
   "nbconvert_exporter": "python",
   "pygments_lexer": "ipython3",
   "version": "3.9.13"
  }
 },
 "nbformat": 4,
 "nbformat_minor": 2
}
